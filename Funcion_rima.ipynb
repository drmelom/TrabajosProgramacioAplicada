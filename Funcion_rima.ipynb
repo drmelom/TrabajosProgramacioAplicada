{
  "nbformat": 4,
  "nbformat_minor": 0,
  "metadata": {
    "colab": {
      "name": "Untitled2.ipynb",
      "provenance": [],
      "authorship_tag": "ABX9TyPrT9qjrMZ7XGKBoGL2GjXT",
      "include_colab_link": true
    },
    "kernelspec": {
      "name": "python3",
      "display_name": "Python 3"
    },
    "language_info": {
      "name": "python"
    }
  },
  "cells": [
    {
      "cell_type": "markdown",
      "metadata": {
        "id": "view-in-github",
        "colab_type": "text"
      },
      "source": [
        "<a href=\"https://colab.research.google.com/github/drmelom/TrabajosProgramacionAplicada/blob/main/Funcion_rima.ipynb\" target=\"_parent\"><img src=\"https://colab.research.google.com/assets/colab-badge.svg\" alt=\"Open In Colab\"/></a>"
      ]
    },
    {
      "cell_type": "code",
      "metadata": {
        "colab": {
          "base_uri": "https://localhost:8080/"
        },
        "id": "liFkKFUgvIUD",
        "outputId": "621b1417-5fac-4e85-fec5-6dceba4c647a"
      },
      "source": [
        "archivo = open('palabras500.csv', encoding=\"utf-8\")\n",
        "lineas = archivo.readlines()\n",
        "archivo.close()\n",
        "\n",
        "len(lineas)"
      ],
      "execution_count": 1,
      "outputs": [
        {
          "output_type": "execute_result",
          "data": {
            "text/plain": [
              "500"
            ]
          },
          "metadata": {},
          "execution_count": 1
        }
      ]
    },
    {
      "cell_type": "code",
      "metadata": {
        "id": "1ZJmJDa8w9Tg"
      },
      "source": [
        "def rima(final):\n",
        "  palabras = [s for s in lineas if (final) in s]\n",
        " \n",
        "  print(palabras)\n"
      ],
      "execution_count": 23,
      "outputs": []
    },
    {
      "cell_type": "code",
      "metadata": {
        "colab": {
          "base_uri": "https://localhost:8080/"
        },
        "id": "yO_MP4Yiz6Qm",
        "outputId": "1fef4c17-d825-4845-a939-64305378bbbb"
      },
      "source": [
        "rima('on')"
      ],
      "execution_count": 24,
      "outputs": [
        {
          "output_type": "stream",
          "name": "stdout",
          "text": [
            "['con\\n', 'son\\n', 'donde\\n', 'nacional\\n', 'personas\\n', 'contra\\n', 'fueron\\n', 'zona\\n', 'entonces\\n', 'personal\\n', 'internacional\\n', 'persona\\n', 'condiciones\\n', 'control\\n', 'conocer\\n', 'consejo\\n', 'construcción\\n', 'acciones\\n', 'economía\\n', 'conocimiento\\n']\n"
          ]
        }
      ]
    }
  ]
}