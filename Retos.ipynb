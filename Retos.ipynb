{
  "nbformat": 4,
  "nbformat_minor": 0,
  "metadata": {
    "colab": {
      "name": "Untitled4.ipynb",
      "provenance": [],
      "authorship_tag": "ABX9TyOwiz+4e2ZOgC+ZolJXohsE",
      "include_colab_link": true
    },
    "kernelspec": {
      "name": "python3",
      "display_name": "Python 3"
    },
    "language_info": {
      "name": "python"
    }
  },
  "cells": [
    {
      "cell_type": "markdown",
      "metadata": {
        "id": "view-in-github",
        "colab_type": "text"
      },
      "source": [
        "<a href=\"https://colab.research.google.com/github/drmelom/TrabajosProgramacionAplicada/blob/main/Retos.ipynb\" target=\"_parent\"><img src=\"https://colab.research.google.com/assets/colab-badge.svg\" alt=\"Open In Colab\"/></a>"
      ]
    },
    {
      "cell_type": "markdown",
      "source": [
        "6, 8, 9, 10, 13, 15, 17, 20, 26, \n",
        ".27"
      ],
      "metadata": {
        "id": "frvVkcGR85j9"
      }
    },
    {
      "cell_type": "markdown",
      "source": [
        "# Reto 6\n"
      ],
      "metadata": {
        "id": "Gz_YbH5789iV"
      }
    },
    {
      "cell_type": "code",
      "source": [
        "import random\n",
        "x = random.randrange(120)\n",
        "print('Numero generado:', x)\n",
        "if x<10:\n",
        "  print('El numero es menor de 10')\n",
        "elif x<50:\n",
        "  print('El numero esta entre 10-50')\n",
        "elif x<100:\n",
        "  print('El numero esta entre 50-100')\n",
        "else:\n",
        "  print('El numero es mayor que 100')"
      ],
      "metadata": {
        "colab": {
          "base_uri": "https://localhost:8080/"
        },
        "id": "Jjnvd1PM9CxT",
        "outputId": "cbc00e73-542e-46e2-ec69-1e616c4acebe"
      },
      "execution_count": 2,
      "outputs": [
        {
          "output_type": "stream",
          "name": "stdout",
          "text": [
            "Numero generado: 18\n",
            "El numero esta entre 10-50\n"
          ]
        }
      ]
    },
    {
      "cell_type": "markdown",
      "source": [
        "# Reto 8"
      ],
      "metadata": {
        "id": "sCMXPkoRQnSt"
      }
    },
    {
      "cell_type": "code",
      "source": [
        "for x in range(10, 21, 2):\n",
        "  print(x)"
      ],
      "metadata": {
        "colab": {
          "base_uri": "https://localhost:8080/"
        },
        "id": "q7Qj6gpcQseS",
        "outputId": "2a2f0ade-8dd6-4e77-a1f6-ec4fdd714c06"
      },
      "execution_count": 3,
      "outputs": [
        {
          "output_type": "stream",
          "name": "stdout",
          "text": [
            "10\n",
            "12\n",
            "14\n",
            "16\n",
            "18\n",
            "20\n"
          ]
        }
      ]
    },
    {
      "cell_type": "markdown",
      "source": [
        "# Reto 9"
      ],
      "metadata": {
        "id": "3worCMdOQ5VY"
      }
    },
    {
      "cell_type": "code",
      "source": [
        "total=0\n",
        "for x in range(1, 26):\n",
        "  if x%5==0:\n",
        "    total+=x  \n",
        "    print(x)\n",
        "print(\"La suma es igual a:\",total)"
      ],
      "metadata": {
        "colab": {
          "base_uri": "https://localhost:8080/"
        },
        "id": "mVfSB4SGQ8Ri",
        "outputId": "09bf5d00-4bea-41e5-9b6b-e2fa080726e7"
      },
      "execution_count": 6,
      "outputs": [
        {
          "output_type": "stream",
          "name": "stdout",
          "text": [
            "5\n",
            "10\n",
            "15\n",
            "20\n",
            "25\n",
            "La suma es igual a: 75\n"
          ]
        }
      ]
    },
    {
      "cell_type": "markdown",
      "source": [
        "# Reto 10\n",
        "(vi la solucion)"
      ],
      "metadata": {
        "id": "5Gy4pIIyRvfX"
      }
    },
    {
      "cell_type": "code",
      "source": [
        "s=0\n",
        "for i in range(64):\n",
        "  s+=2**i\n",
        "  print(i+1,2**i,s)\n",
        "print(\"En notación científica es %e,\\n y el total es: %E granos de trigo.\" % (2**i,s))"
      ],
      "metadata": {
        "colab": {
          "base_uri": "https://localhost:8080/"
        },
        "id": "fLSv0m1DRyfa",
        "outputId": "385b78a1-540f-4fd4-a765-73fd9efb6e76"
      },
      "execution_count": 12,
      "outputs": [
        {
          "output_type": "stream",
          "name": "stdout",
          "text": [
            "1 1 1\n",
            "2 2 3\n",
            "3 4 7\n",
            "4 8 15\n",
            "5 16 31\n",
            "6 32 63\n",
            "7 64 127\n",
            "8 128 255\n",
            "9 256 511\n",
            "10 512 1023\n",
            "11 1024 2047\n",
            "12 2048 4095\n",
            "13 4096 8191\n",
            "14 8192 16383\n",
            "15 16384 32767\n",
            "16 32768 65535\n",
            "17 65536 131071\n",
            "18 131072 262143\n",
            "19 262144 524287\n",
            "20 524288 1048575\n",
            "21 1048576 2097151\n",
            "22 2097152 4194303\n",
            "23 4194304 8388607\n",
            "24 8388608 16777215\n",
            "25 16777216 33554431\n",
            "26 33554432 67108863\n",
            "27 67108864 134217727\n",
            "28 134217728 268435455\n",
            "29 268435456 536870911\n",
            "30 536870912 1073741823\n",
            "31 1073741824 2147483647\n",
            "32 2147483648 4294967295\n",
            "33 4294967296 8589934591\n",
            "34 8589934592 17179869183\n",
            "35 17179869184 34359738367\n",
            "36 34359738368 68719476735\n",
            "37 68719476736 137438953471\n",
            "38 137438953472 274877906943\n",
            "39 274877906944 549755813887\n",
            "40 549755813888 1099511627775\n",
            "41 1099511627776 2199023255551\n",
            "42 2199023255552 4398046511103\n",
            "43 4398046511104 8796093022207\n",
            "44 8796093022208 17592186044415\n",
            "45 17592186044416 35184372088831\n",
            "46 35184372088832 70368744177663\n",
            "47 70368744177664 140737488355327\n",
            "48 140737488355328 281474976710655\n",
            "49 281474976710656 562949953421311\n",
            "50 562949953421312 1125899906842623\n",
            "51 1125899906842624 2251799813685247\n",
            "52 2251799813685248 4503599627370495\n",
            "53 4503599627370496 9007199254740991\n",
            "54 9007199254740992 18014398509481983\n",
            "55 18014398509481984 36028797018963967\n",
            "56 36028797018963968 72057594037927935\n",
            "57 72057594037927936 144115188075855871\n",
            "58 144115188075855872 288230376151711743\n",
            "59 288230376151711744 576460752303423487\n",
            "60 576460752303423488 1152921504606846975\n",
            "61 1152921504606846976 2305843009213693951\n",
            "62 2305843009213693952 4611686018427387903\n",
            "63 4611686018427387904 9223372036854775807\n",
            "64 9223372036854775808 18446744073709551615\n",
            "En notación científica es 9.223372e+18,\n",
            " y el total es: 1.844674E+19 granos de trigo.\n"
          ]
        }
      ]
    },
    {
      "cell_type": "markdown",
      "source": [
        "#Reto 13"
      ],
      "metadata": {
        "id": "M4cWJptlTTxW"
      }
    },
    {
      "cell_type": "code",
      "source": [
        "x = float(input(\"Ingrese el primer numero: \")) \n",
        "y = float(input(\"Ingrese el segundo numero \"))\n",
        "z= (x+y)/2\n",
        "print('Su media:',z)"
      ],
      "metadata": {
        "colab": {
          "base_uri": "https://localhost:8080/"
        },
        "id": "m9g6pNd8TWkI",
        "outputId": "f29155c5-c35d-4c4f-c963-b28bdf9ba8e3"
      },
      "execution_count": 15,
      "outputs": [
        {
          "output_type": "stream",
          "name": "stdout",
          "text": [
            "Ingrese el primer numero: 3\n",
            "Ingrese el segundo numero 2\n",
            "Su media: 2.5\n"
          ]
        }
      ]
    },
    {
      "cell_type": "markdown",
      "source": [
        "# Reto 15"
      ],
      "metadata": {
        "id": "PPsDOBqQULfM"
      }
    },
    {
      "cell_type": "code",
      "source": [
        "x = 0\n",
        "numeros=[]\n",
        "while (x < 1):\n",
        "  x = int(input('Cantidad de numeros: '))\n",
        "for i in range(x):\n",
        "  z = float(input('Escribe un numero: '))\n",
        "  numeros.append(z)\n",
        "print('Media = ', sum(numeros)/x)"
      ],
      "metadata": {
        "colab": {
          "base_uri": "https://localhost:8080/"
        },
        "id": "xBqB7maFUNx7",
        "outputId": "2d4c3012-9d47-42b6-d22f-da88e3e010d3"
      },
      "execution_count": 16,
      "outputs": [
        {
          "output_type": "stream",
          "name": "stdout",
          "text": [
            "Cantidad de numeros10\n",
            "Dame un número:5\n",
            "Dame un número:4\n",
            "Dame un número:3\n",
            "Dame un número:2\n",
            "Dame un número:1\n",
            "Dame un número:4\n",
            "Dame un número:5\n",
            "Dame un número:6\n",
            "Dame un número:4\n",
            "Dame un número:5\n",
            "Media =  3.9\n"
          ]
        }
      ]
    },
    {
      "cell_type": "markdown",
      "source": [
        "# Reto 17\n"
      ],
      "metadata": {
        "id": "lwYFEt5CVIWG"
      }
    },
    {
      "cell_type": "code",
      "source": [
        "import random\n",
        "n=random.randrange(1,100)\n",
        "nu=int(input('Un numero del 1 al 100: '))\n",
        "while nu!=n:\n",
        "    if nu>n:\n",
        "        nu=int(input('El número menor'))\n",
        "    elif nu<n:\n",
        "        nu=int(input('El número es mayor'))\n",
        "print('Felicidades ese era el numero:',n)\n"
      ],
      "metadata": {
        "id": "3aH5kGLcVM-V"
      },
      "execution_count": null,
      "outputs": []
    },
    {
      "cell_type": "markdown",
      "source": [
        "#Reto 20\n",
        "(vi la solucion)"
      ],
      "metadata": {
        "id": "Kd-R5MBQV1DE"
      }
    },
    {
      "cell_type": "code",
      "source": [
        "def bisiesto(x):\n",
        "  if x%4==0 and (not(x%100==0) or x%400==0 ):\n",
        "    texto='es bisiesto.'\n",
        "  else:\n",
        "    texto='es un año NO bisiesto.'\n",
        "  return texto\n",
        "x=int(input('Introduzca un año entre 1600 y 2500:'))\n",
        "print(x,bisiesto(x))"
      ],
      "metadata": {
        "colab": {
          "base_uri": "https://localhost:8080/"
        },
        "id": "J17fBSOGV5bk",
        "outputId": "adc141f2-86f6-4ea7-ebeb-e08df08def36"
      },
      "execution_count": 17,
      "outputs": [
        {
          "output_type": "stream",
          "name": "stdout",
          "text": [
            "Introduzca un año entre 1600 y 2500:2012\n",
            "2012 es bisiesto.\n"
          ]
        }
      ]
    },
    {
      "cell_type": "markdown",
      "source": [
        "# Reto 26"
      ],
      "metadata": {
        "id": "BB3aBzfdWZMM"
      }
    },
    {
      "cell_type": "code",
      "source": [
        "import random\n",
        "x = random.randint(1000000, 2000001)\n",
        "print(x)\n",
        "x=str(x)\n",
        "p=0\n",
        "for i in x:\n",
        "  if int(i)%2==0:\n",
        "    p+=1\n",
        "print('Hay un total de',p,'cifras pares')\n",
        "print('Hay un total de',7-p,'cifras impares')"
      ],
      "metadata": {
        "id": "OPe4PO3yWb-C"
      },
      "execution_count": null,
      "outputs": []
    },
    {
      "cell_type": "markdown",
      "source": [
        "# Reto 27"
      ],
      "metadata": {
        "id": "4tS9JYBnXzQn"
      }
    },
    {
      "cell_type": "code",
      "source": [
        "from random import randint\n",
        "maxi=0\n",
        "mini=100\n",
        "for i in range(10):\n",
        "  x=randint(1, 100)\n",
        "  print(x)\n",
        "  maxi=max(maxi,x)\n",
        "  mini=min(mini,x)\n",
        "print('El mayor es:',maxi)\n",
        "print('El menor es:',mini)"
      ],
      "metadata": {
        "id": "HWPzHAhoX2dv"
      },
      "execution_count": null,
      "outputs": []
    }
  ]
}